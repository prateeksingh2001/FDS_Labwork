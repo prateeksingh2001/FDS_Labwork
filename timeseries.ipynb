{
  "nbformat": 4,
  "nbformat_minor": 0,
  "metadata": {
    "colab": {
      "provenance": [],
      "authorship_tag": "ABX9TyNExdtqHoz4u0tVOiA3UrLt",
      "include_colab_link": true
    },
    "kernelspec": {
      "name": "python3",
      "display_name": "Python 3"
    },
    "language_info": {
      "name": "python"
    }
  },
  "cells": [
    {
      "cell_type": "markdown",
      "metadata": {
        "id": "view-in-github",
        "colab_type": "text"
      },
      "source": [
        "<a href=\"https://colab.research.google.com/github/prateeksingh2001/FDS_Labwork/blob/main/timeseries.ipynb\" target=\"_parent\"><img src=\"https://colab.research.google.com/assets/colab-badge.svg\" alt=\"Open In Colab\"/></a>"
      ]
    },
    {
      "cell_type": "code",
      "execution_count": null,
      "metadata": {
        "id": "7zoOX2aIIsK3"
      },
      "outputs": [],
      "source": [
        "import numpy as np\n",
        "arr=[45,82,65,85,43,5,8,110,125,62]"
      ]
    },
    {
      "cell_type": "code",
      "source": [
        "\n",
        "a=[]\n",
        "for i in range(len(arr)):\n",
        "  if i==len(arr)-1:\n",
        "    break\n",
        "  a.append(arr[i]-arr[i+1])\n"
      ],
      "metadata": {
        "id": "805p4SniJqQ8"
      },
      "execution_count": null,
      "outputs": []
    },
    {
      "cell_type": "code",
      "source": [
        "a"
      ],
      "metadata": {
        "colab": {
          "base_uri": "https://localhost:8080/"
        },
        "id": "1jSNgdbXK5fd",
        "outputId": "2f9ee542-3017-4407-c728-6c22e93d5eb3"
      },
      "execution_count": null,
      "outputs": [
        {
          "output_type": "execute_result",
          "data": {
            "text/plain": [
              "[-37, 17, -20, 42, 38, -3, -102, -15, 63]"
            ]
          },
          "metadata": {},
          "execution_count": 4
        }
      ]
    },
    {
      "cell_type": "code",
      "source": [
        "l1=a[0:8]\n",
        "l2=a[1:]"
      ],
      "metadata": {
        "id": "eJBixs85N5Zn"
      },
      "execution_count": null,
      "outputs": []
    },
    {
      "cell_type": "code",
      "source": [
        "print(l1)\n",
        "print(l2)"
      ],
      "metadata": {
        "colab": {
          "base_uri": "https://localhost:8080/"
        },
        "id": "u4DtMEKlMkE1",
        "outputId": "f1a71593-f2fb-44b1-be04-c0fc311376a9"
      },
      "execution_count": null,
      "outputs": [
        {
          "output_type": "stream",
          "name": "stdout",
          "text": [
            "[-37, 17, -20, 42, 38, -3, -102, -15]\n",
            "[17, -20, 42, 38, -3, -102, -15, 63]\n"
          ]
        }
      ]
    },
    {
      "cell_type": "code",
      "source": [
        "import numpy as np\n",
        "# Calculate covariance using numpy\n",
        "cov_matrix = np.cov(l1, l2, bias=False)\n",
        "\n",
        "# Covariance value is the off-diagonal element\n",
        "cov_value = cov_matrix[0, 1]\n",
        "\n",
        "print(\"Covariance between X and Y:\", cov_value)"
      ],
      "metadata": {
        "colab": {
          "base_uri": "https://localhost:8080/"
        },
        "id": "bW84apznM-a4",
        "outputId": "b878674b-edf0-4dd8-af7b-6a1eeb012909"
      },
      "execution_count": null,
      "outputs": [
        {
          "output_type": "stream",
          "name": "stdout",
          "text": [
            "Covariance between X and Y: 109.14285714285714\n"
          ]
        }
      ]
    },
    {
      "cell_type": "code",
      "source": [
        "l1c=np.var(l1)\n",
        "print(l1c)"
      ],
      "metadata": {
        "id": "hM6_uluENn9K",
        "colab": {
          "base_uri": "https://localhost:8080/"
        },
        "outputId": "949936d8-67c5-44c9-8bfc-3a7ed7a70984"
      },
      "execution_count": null,
      "outputs": [
        {
          "output_type": "stream",
          "name": "stdout",
          "text": [
            "1888.0\n"
          ]
        }
      ]
    },
    {
      "cell_type": "code",
      "source": [
        "phi=cov_value/l1c\n",
        "print(phi)"
      ],
      "metadata": {
        "id": "lBjfqkQpNqr4",
        "colab": {
          "base_uri": "https://localhost:8080/"
        },
        "outputId": "0cfd37ea-96e1-44f1-fc60-f648f719a9f1"
      },
      "execution_count": null,
      "outputs": [
        {
          "output_type": "stream",
          "name": "stdout",
          "text": [
            "0.05780871670702179\n"
          ]
        }
      ]
    },
    {
      "cell_type": "code",
      "source": [
        "arr.append(arr[len(arr)-1]+phi)"
      ],
      "metadata": {
        "id": "jrE6xL1qqvKR"
      },
      "execution_count": null,
      "outputs": []
    },
    {
      "cell_type": "code",
      "source": [
        "arr"
      ],
      "metadata": {
        "id": "16aonpocq0V_",
        "outputId": "df609d1b-e20d-4672-9b78-d098918fb32b",
        "colab": {
          "base_uri": "https://localhost:8080/"
        }
      },
      "execution_count": null,
      "outputs": [
        {
          "output_type": "execute_result",
          "data": {
            "text/plain": [
              "[45, 82, 65, 85, 43, 5, 8, 110, 125, 62, 62.05780871670702]"
            ]
          },
          "metadata": {},
          "execution_count": 11
        }
      ]
    },
    {
      "cell_type": "code",
      "source": [],
      "metadata": {
        "id": "USq6u5faq1MR"
      },
      "execution_count": null,
      "outputs": []
    }
  ]
}