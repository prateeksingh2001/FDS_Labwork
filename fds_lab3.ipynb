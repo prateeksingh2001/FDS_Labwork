{
  "nbformat": 4,
  "nbformat_minor": 0,
  "metadata": {
    "colab": {
      "provenance": [],
      "authorship_tag": "ABX9TyPyCofz7QBenYhihBV35L7s",
      "include_colab_link": true
    },
    "kernelspec": {
      "name": "python3",
      "display_name": "Python 3"
    },
    "language_info": {
      "name": "python"
    }
  },
  "cells": [
    {
      "cell_type": "markdown",
      "metadata": {
        "id": "view-in-github",
        "colab_type": "text"
      },
      "source": [
        "<a href=\"https://colab.research.google.com/github/prateeksingh2001/FDS_Labwork/blob/main/fds_lab3.ipynb\" target=\"_parent\"><img src=\"https://colab.research.google.com/assets/colab-badge.svg\" alt=\"Open In Colab\"/></a>"
      ]
    },
    {
      "cell_type": "code",
      "execution_count": null,
      "metadata": {
        "id": "tv4JKETsg5cH"
      },
      "outputs": [],
      "source": [
        "import numpy as np\n",
        "import matplotlib.pyplot as plt\n",
        "import pandas as pd\n",
        "import scipy.stats as stats"
      ]
    },
    {
      "cell_type": "code",
      "source": [
        "population = np.random.normal(loc=50, scale=10, size=10000)"
      ],
      "metadata": {
        "id": "WlOBbJCShLCI"
      },
      "execution_count": null,
      "outputs": []
    },
    {
      "cell_type": "code",
      "source": [
        "population"
      ],
      "metadata": {
        "colab": {
          "base_uri": "https://localhost:8080/"
        },
        "id": "v7OxdXZbiBCN",
        "outputId": "48aced94-9982-4f8a-cc44-98fa51720fab"
      },
      "execution_count": null,
      "outputs": [
        {
          "output_type": "execute_result",
          "data": {
            "text/plain": [
              "array([35.42578281, 29.17164336, 36.08956064, ..., 45.98664675,\n",
              "       41.27326663, 35.19181309])"
            ]
          },
          "metadata": {},
          "execution_count": 6
        }
      ]
    },
    {
      "cell_type": "code",
      "source": [
        "plt.hist(population, bins=100)\n",
        "plt.show()"
      ],
      "metadata": {
        "colab": {
          "base_uri": "https://localhost:8080/",
          "height": 430
        },
        "id": "Ln5-QTw5iYo6",
        "outputId": "9f3d05a9-32c4-4349-8e99-762403ea7cf2"
      },
      "execution_count": null,
      "outputs": [
        {
          "output_type": "display_data",
          "data": {
            "text/plain": [
              "<Figure size 640x480 with 1 Axes>"
            ],
            "image/png": "[encoded data removed]"
          },
          "metadata": {}
        }
      ]
    },
    {
      "cell_type": "code",
      "source": [
        "def uniform_sampling(population, sample_size):\n",
        "  indices = np.random.choice(len(population), size=sample_size, replace=False)\n",
        "  sample = [population[i] for i in indices]\n",
        "  return sample"
      ],
      "metadata": {
        "id": "OV_5VyApicOB"
      },
      "execution_count": null,
      "outputs": []
    },
    {
      "cell_type": "code",
      "source": [
        "sample_size = 100\n",
        "sample = uniform_sampling(population, sample_size)"
      ],
      "metadata": {
        "id": "8S2Jw4-wi41i"
      },
      "execution_count": null,
      "outputs": []
    },
    {
      "cell_type": "code",
      "source": [
        "plt.hist(sample, bins=50)\n",
        "plt.show()"
      ],
      "metadata": {
        "colab": {
          "base_uri": "https://localhost:8080/",
          "height": 430
        },
        "id": "VFDYWhFYjSeD",
        "outputId": "cf78bcc9-2f39-4c83-f579-291253aca461"
      },
      "execution_count": null,
      "outputs": [
        {
          "output_type": "display_data",
          "data": {
            "text/plain": [
              "<Figure size 640x480 with 1 Axes>"
            ],
            "image/png": "[encoded data removed]"
          },
          "metadata": {}
        }
      ]
    },
    {
      "cell_type": "code",
      "source": [
        "sample_mean = np.mean(sample)\n",
        "sample_std = np.std(sample, ddof=1)"
      ],
      "metadata": {
        "id": "4RTtOZiAkfbI"
      },
      "execution_count": null,
      "outputs": []
    },
    {
      "cell_type": "code",
      "source": [
        "confidence_level = 0.95\n",
        "alpha = 1 - confidence_level\n",
        "t_critical = stats.t.ppf(1 - alpha/2, df=sample_size-1)\n",
        "margin_of_error = t_critical * (sample_std / np.sqrt(sample_size))"
      ],
      "metadata": {
        "id": "gQehPYAisk3X"
      },
      "execution_count": null,
      "outputs": []
    },
    {
      "cell_type": "code",
      "source": [
        "confidence_interval = (sample_mean - margin_of_error, sample_mean + margin_of_error)"
      ],
      "metadata": {
        "id": "k7PYbCWgs5vm"
      },
      "execution_count": null,
      "outputs": []
    },
    {
      "cell_type": "code",
      "source": [
        "print(f\"Sample Mean: {sample_mean}\")\n",
        "print(f\"Sample Standard Deviation: {sample_std}\")\n",
        "print(f\"{confidence_level*100:.0f}% Confidence Interval for the Mean: {confidence_interval}\")"
      ],
      "metadata": {
        "colab": {
          "base_uri": "https://localhost:8080/"
        },
        "id": "7aP87nDltDP2",
        "outputId": "a55a7684-658c-492d-b724-299223a79696"
      },
      "execution_count": null,
      "outputs": [
        {
          "output_type": "stream",
          "name": "stdout",
          "text": [
            "Sample Mean: 49.49285645471441\n",
            "Sample Standard Deviation: 10.857990538972533\n",
            "95% Confidence Interval for the Mean: (47.338395566039395, 51.64731734338943)\n"
          ]
        }
      ]
    },
    {
      "cell_type": "code",
      "source": [
        "plt.hist(sample, bins=50)\n",
        "plt.show()"
      ],
      "metadata": {
        "colab": {
          "base_uri": "https://localhost:8080/",
          "height": 430
        },
        "id": "-Nr93l9ltYiK",
        "outputId": "f32948b7-667c-44e6-dff6-c0b10d841cf4"
      },
      "execution_count": null,
      "outputs": [
        {
          "output_type": "display_data",
          "data": {
            "text/plain": [
              "<Figure size 640x480 with 1 Axes>"
            ],
            "image/png": "[encoded data removed]"
          },
          "metadata": {}
        }
      ]
    },
    {
      "cell_type": "code",
      "source": [
        "hypothesized_mean = 49\n",
        "t_statistic, p_value = stats.ttest_1samp(sample, hypothesized_mean)\n",
        "\n",
        "print(f\"T-Statistic: {t_statistic:.2f}\")\n",
        "print(f\"P-Value: {p_value:.4f}\")"
      ],
      "metadata": {
        "colab": {
          "base_uri": "https://localhost:8080/"
        },
        "id": "kxgMyo4ftjcF",
        "outputId": "e60d5553-dd4e-4e3b-ecb7-4d6fdf41aab0"
      },
      "execution_count": null,
      "outputs": [
        {
          "output_type": "stream",
          "name": "stdout",
          "text": [
            "T-Statistic: 0.45\n",
            "P-Value: 0.6509\n"
          ]
        }
      ]
    },
    {
      "cell_type": "code",
      "source": [
        "if p_value < alpha:\n",
        "  print(\"Reject the null hypothesis\")\n",
        "else:\n",
        "  print(\"Fail to reject the null hypothesis\")"
      ],
      "metadata": {
        "colab": {
          "base_uri": "https://localhost:8080/"
        },
        "id": "ZbEOkA1evM3_",
        "outputId": "7642a9be-37a6-4900-cae0-7e0eb9dcf518"
      },
      "execution_count": null,
      "outputs": [
        {
          "output_type": "stream",
          "name": "stdout",
          "text": [
            "Fail to reject the null hypothesis\n"
          ]
        }
      ]
    },
    {
      "cell_type": "code",
      "source": [
        "plt.figure(figsize=(12, 6))"
      ],
      "metadata": {
        "colab": {
          "base_uri": "https://localhost:8080/",
          "height": 53
        },
        "id": "TftlWu8_w7QF",
        "outputId": "fb21e147-cdb1-46c8-ad9c-3cf1ad47ebd5"
      },
      "execution_count": null,
      "outputs": [
        {
          "output_type": "execute_result",
          "data": {
            "text/plain": [
              "<Figure size 1200x600 with 0 Axes>"
            ]
          },
          "metadata": {},
          "execution_count": 31
        },
        {
          "output_type": "display_data",
          "data": {
            "text/plain": [
              "<Figure size 1200x600 with 0 Axes>"
            ]
          },
          "metadata": {}
        }
      ]
    },
    {
      "cell_type": "code",
      "source": [
        "plt.hist(population, bins=50, alpha=0.5, label='Population', color='grey', density='True')\n",
        "plt.hist(sample, bins=20, alpha=0.7, label='Sample', color='blue', density='True')\n",
        "\n",
        "plt.axvline(sample_mean, color='red', linestyle='dashed', linewidth=2, label='Sample Mean')\n",
        "plt.axvline(hypothesized_mean, color='green', linestyle='dashed', linewidth=2, label='Hypothesized Mean')\n",
        "\n",
        "plt.title('Population vs. Sample')\n",
        "plt.xlabel('Value')\n",
        "plt.ylabel('Frequency')\n",
        "plt.legend()\n",
        "plt.show()"
      ],
      "metadata": {
        "colab": {
          "base_uri": "https://localhost:8080/",
          "height": 472
        },
        "id": "rg7N4SW9xB0B",
        "outputId": "dff67702-7e64-4253-c294-43c94d42a6a1"
      },
      "execution_count": null,
      "outputs": [
        {
          "output_type": "display_data",
          "data": {
            "text/plain": [
              "<Figure size 640x480 with 1 Axes>"
            ],
            "image/png": "[encoded data removed]"
          },
          "metadata": {}
        }
      ]
    },
    {
      "cell_type": "code",
      "source": [],
      "metadata": {
        "id": "jZVyGSTUxdNp"
      },
      "execution_count": null,
      "outputs": []
    }
  ]
}